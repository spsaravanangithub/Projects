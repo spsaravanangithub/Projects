{
  "cells": [
    {
      "cell_type": "markdown",
      "metadata": {
        "id": "view-in-github",
        "colab_type": "text"
      },
      "source": [
        "<a href=\"https://colab.research.google.com/github/spsaravanangithub/Projects/blob/main/House_price_predict_chennai.ipynb\" target=\"_parent\"><img src=\"https://colab.research.google.com/assets/colab-badge.svg\" alt=\"Open In Colab\"/></a>"
      ]
    },
    {
      "cell_type": "code",
      "execution_count": 2,
      "metadata": {
        "id": "EhPnRogHBlzh"
      },
      "outputs": [],
      "source": [
        "import numpy as np\n",
        "import pandas as pd\n",
        "import matplotlib.pyplot as plt"
      ]
    },
    {
      "cell_type": "code",
      "execution_count": 4,
      "metadata": {
        "id": "TFC73HCucwf9"
      },
      "outputs": [],
      "source": [
        "hp=pd.read_csv('/content/train-chennai-sale.csv')\n"
      ]
    },
    {
      "cell_type": "code",
      "execution_count": 5,
      "metadata": {
        "id": "EpRHAUQuNwQC"
      },
      "outputs": [],
      "source": [
        "hp=hp.drop(['PRT_ID','REG_FEE','COMMIS'],axis=1)"
      ]
    },
    {
      "cell_type": "code",
      "execution_count": 6,
      "metadata": {
        "id": "nL0vI19pcw4q",
        "colab": {
          "base_uri": "https://localhost:8080/",
          "height": 364
        },
        "outputId": "b45a8f45-aeb1-4ce6-b2d9-732428b26d7b"
      },
      "outputs": [
        {
          "output_type": "execute_result",
          "data": {
            "text/plain": [
              "          INT_SQFT  DIST_MAINROAD    N_BEDROOM   N_BATHROOM       N_ROOM  \\\n",
              "count  7109.000000    7109.000000  7108.000000  7104.000000  7109.000000   \n",
              "mean   1382.073006      99.603179     1.637029     1.213260     3.688704   \n",
              "std     457.410902      57.403110     0.802902     0.409639     1.019099   \n",
              "min     500.000000       0.000000     1.000000     1.000000     2.000000   \n",
              "25%     993.000000      50.000000     1.000000     1.000000     3.000000   \n",
              "50%    1373.000000      99.000000     1.000000     1.000000     4.000000   \n",
              "75%    1744.000000     148.000000     2.000000     1.000000     4.000000   \n",
              "max    2500.000000     200.000000     4.000000     2.000000     6.000000   \n",
              "\n",
              "          QS_ROOMS  QS_BATHROOM   QS_BEDROOM   QS_OVERALL   SALES_PRICE  \n",
              "count  7109.000000  7109.000000  7109.000000  7061.000000  7.109000e+03  \n",
              "mean      3.517471     3.507244     3.485300     3.503254  1.089491e+07  \n",
              "std       0.891972     0.897834     0.887266     0.527223  3.768603e+06  \n",
              "min       2.000000     2.000000     2.000000     2.000000  2.156875e+06  \n",
              "25%       2.700000     2.700000     2.700000     3.130000  8.272100e+06  \n",
              "50%       3.500000     3.500000     3.500000     3.500000  1.033505e+07  \n",
              "75%       4.300000     4.300000     4.300000     3.890000  1.299390e+07  \n",
              "max       5.000000     5.000000     5.000000     4.970000  2.366734e+07  "
            ],
            "text/html": [
              "\n",
              "  <div id=\"df-1ab1f74d-97ed-4b18-9c36-a6e5214c97d8\">\n",
              "    <div class=\"colab-df-container\">\n",
              "      <div>\n",
              "<style scoped>\n",
              "    .dataframe tbody tr th:only-of-type {\n",
              "        vertical-align: middle;\n",
              "    }\n",
              "\n",
              "    .dataframe tbody tr th {\n",
              "        vertical-align: top;\n",
              "    }\n",
              "\n",
              "    .dataframe thead th {\n",
              "        text-align: right;\n",
              "    }\n",
              "</style>\n",
              "<table border=\"1\" class=\"dataframe\">\n",
              "  <thead>\n",
              "    <tr style=\"text-align: right;\">\n",
              "      <th></th>\n",
              "      <th>INT_SQFT</th>\n",
              "      <th>DIST_MAINROAD</th>\n",
              "      <th>N_BEDROOM</th>\n",
              "      <th>N_BATHROOM</th>\n",
              "      <th>N_ROOM</th>\n",
              "      <th>QS_ROOMS</th>\n",
              "      <th>QS_BATHROOM</th>\n",
              "      <th>QS_BEDROOM</th>\n",
              "      <th>QS_OVERALL</th>\n",
              "      <th>SALES_PRICE</th>\n",
              "    </tr>\n",
              "  </thead>\n",
              "  <tbody>\n",
              "    <tr>\n",
              "      <th>count</th>\n",
              "      <td>7109.000000</td>\n",
              "      <td>7109.000000</td>\n",
              "      <td>7108.000000</td>\n",
              "      <td>7104.000000</td>\n",
              "      <td>7109.000000</td>\n",
              "      <td>7109.000000</td>\n",
              "      <td>7109.000000</td>\n",
              "      <td>7109.000000</td>\n",
              "      <td>7061.000000</td>\n",
              "      <td>7.109000e+03</td>\n",
              "    </tr>\n",
              "    <tr>\n",
              "      <th>mean</th>\n",
              "      <td>1382.073006</td>\n",
              "      <td>99.603179</td>\n",
              "      <td>1.637029</td>\n",
              "      <td>1.213260</td>\n",
              "      <td>3.688704</td>\n",
              "      <td>3.517471</td>\n",
              "      <td>3.507244</td>\n",
              "      <td>3.485300</td>\n",
              "      <td>3.503254</td>\n",
              "      <td>1.089491e+07</td>\n",
              "    </tr>\n",
              "    <tr>\n",
              "      <th>std</th>\n",
              "      <td>457.410902</td>\n",
              "      <td>57.403110</td>\n",
              "      <td>0.802902</td>\n",
              "      <td>0.409639</td>\n",
              "      <td>1.019099</td>\n",
              "      <td>0.891972</td>\n",
              "      <td>0.897834</td>\n",
              "      <td>0.887266</td>\n",
              "      <td>0.527223</td>\n",
              "      <td>3.768603e+06</td>\n",
              "    </tr>\n",
              "    <tr>\n",
              "      <th>min</th>\n",
              "      <td>500.000000</td>\n",
              "      <td>0.000000</td>\n",
              "      <td>1.000000</td>\n",
              "      <td>1.000000</td>\n",
              "      <td>2.000000</td>\n",
              "      <td>2.000000</td>\n",
              "      <td>2.000000</td>\n",
              "      <td>2.000000</td>\n",
              "      <td>2.000000</td>\n",
              "      <td>2.156875e+06</td>\n",
              "    </tr>\n",
              "    <tr>\n",
              "      <th>25%</th>\n",
              "      <td>993.000000</td>\n",
              "      <td>50.000000</td>\n",
              "      <td>1.000000</td>\n",
              "      <td>1.000000</td>\n",
              "      <td>3.000000</td>\n",
              "      <td>2.700000</td>\n",
              "      <td>2.700000</td>\n",
              "      <td>2.700000</td>\n",
              "      <td>3.130000</td>\n",
              "      <td>8.272100e+06</td>\n",
              "    </tr>\n",
              "    <tr>\n",
              "      <th>50%</th>\n",
              "      <td>1373.000000</td>\n",
              "      <td>99.000000</td>\n",
              "      <td>1.000000</td>\n",
              "      <td>1.000000</td>\n",
              "      <td>4.000000</td>\n",
              "      <td>3.500000</td>\n",
              "      <td>3.500000</td>\n",
              "      <td>3.500000</td>\n",
              "      <td>3.500000</td>\n",
              "      <td>1.033505e+07</td>\n",
              "    </tr>\n",
              "    <tr>\n",
              "      <th>75%</th>\n",
              "      <td>1744.000000</td>\n",
              "      <td>148.000000</td>\n",
              "      <td>2.000000</td>\n",
              "      <td>1.000000</td>\n",
              "      <td>4.000000</td>\n",
              "      <td>4.300000</td>\n",
              "      <td>4.300000</td>\n",
              "      <td>4.300000</td>\n",
              "      <td>3.890000</td>\n",
              "      <td>1.299390e+07</td>\n",
              "    </tr>\n",
              "    <tr>\n",
              "      <th>max</th>\n",
              "      <td>2500.000000</td>\n",
              "      <td>200.000000</td>\n",
              "      <td>4.000000</td>\n",
              "      <td>2.000000</td>\n",
              "      <td>6.000000</td>\n",
              "      <td>5.000000</td>\n",
              "      <td>5.000000</td>\n",
              "      <td>5.000000</td>\n",
              "      <td>4.970000</td>\n",
              "      <td>2.366734e+07</td>\n",
              "    </tr>\n",
              "  </tbody>\n",
              "</table>\n",
              "</div>\n",
              "      <button class=\"colab-df-convert\" onclick=\"convertToInteractive('df-1ab1f74d-97ed-4b18-9c36-a6e5214c97d8')\"\n",
              "              title=\"Convert this dataframe to an interactive table.\"\n",
              "              style=\"display:none;\">\n",
              "        \n",
              "  <svg xmlns=\"http://www.w3.org/2000/svg\" height=\"24px\"viewBox=\"0 0 24 24\"\n",
              "       width=\"24px\">\n",
              "    <path d=\"M0 0h24v24H0V0z\" fill=\"none\"/>\n",
              "    <path d=\"M18.56 5.44l.94 2.06.94-2.06 2.06-.94-2.06-.94-.94-2.06-.94 2.06-2.06.94zm-11 1L8.5 8.5l.94-2.06 2.06-.94-2.06-.94L8.5 2.5l-.94 2.06-2.06.94zm10 10l.94 2.06.94-2.06 2.06-.94-2.06-.94-.94-2.06-.94 2.06-2.06.94z\"/><path d=\"M17.41 7.96l-1.37-1.37c-.4-.4-.92-.59-1.43-.59-.52 0-1.04.2-1.43.59L10.3 9.45l-7.72 7.72c-.78.78-.78 2.05 0 2.83L4 21.41c.39.39.9.59 1.41.59.51 0 1.02-.2 1.41-.59l7.78-7.78 2.81-2.81c.8-.78.8-2.07 0-2.86zM5.41 20L4 18.59l7.72-7.72 1.47 1.35L5.41 20z\"/>\n",
              "  </svg>\n",
              "      </button>\n",
              "      \n",
              "  <style>\n",
              "    .colab-df-container {\n",
              "      display:flex;\n",
              "      flex-wrap:wrap;\n",
              "      gap: 12px;\n",
              "    }\n",
              "\n",
              "    .colab-df-convert {\n",
              "      background-color: #E8F0FE;\n",
              "      border: none;\n",
              "      border-radius: 50%;\n",
              "      cursor: pointer;\n",
              "      display: none;\n",
              "      fill: #1967D2;\n",
              "      height: 32px;\n",
              "      padding: 0 0 0 0;\n",
              "      width: 32px;\n",
              "    }\n",
              "\n",
              "    .colab-df-convert:hover {\n",
              "      background-color: #E2EBFA;\n",
              "      box-shadow: 0px 1px 2px rgba(60, 64, 67, 0.3), 0px 1px 3px 1px rgba(60, 64, 67, 0.15);\n",
              "      fill: #174EA6;\n",
              "    }\n",
              "\n",
              "    [theme=dark] .colab-df-convert {\n",
              "      background-color: #3B4455;\n",
              "      fill: #D2E3FC;\n",
              "    }\n",
              "\n",
              "    [theme=dark] .colab-df-convert:hover {\n",
              "      background-color: #434B5C;\n",
              "      box-shadow: 0px 1px 3px 1px rgba(0, 0, 0, 0.15);\n",
              "      filter: drop-shadow(0px 1px 2px rgba(0, 0, 0, 0.3));\n",
              "      fill: #FFFFFF;\n",
              "    }\n",
              "  </style>\n",
              "\n",
              "      <script>\n",
              "        const buttonEl =\n",
              "          document.querySelector('#df-1ab1f74d-97ed-4b18-9c36-a6e5214c97d8 button.colab-df-convert');\n",
              "        buttonEl.style.display =\n",
              "          google.colab.kernel.accessAllowed ? 'block' : 'none';\n",
              "\n",
              "        async function convertToInteractive(key) {\n",
              "          const element = document.querySelector('#df-1ab1f74d-97ed-4b18-9c36-a6e5214c97d8');\n",
              "          const dataTable =\n",
              "            await google.colab.kernel.invokeFunction('convertToInteractive',\n",
              "                                                     [key], {});\n",
              "          if (!dataTable) return;\n",
              "\n",
              "          const docLinkHtml = 'Like what you see? Visit the ' +\n",
              "            '<a target=\"_blank\" href=https://colab.research.google.com/notebooks/data_table.ipynb>data table notebook</a>'\n",
              "            + ' to learn more about interactive tables.';\n",
              "          element.innerHTML = '';\n",
              "          dataTable['output_type'] = 'display_data';\n",
              "          await google.colab.output.renderOutput(dataTable, element);\n",
              "          const docLink = document.createElement('div');\n",
              "          docLink.innerHTML = docLinkHtml;\n",
              "          element.appendChild(docLink);\n",
              "        }\n",
              "      </script>\n",
              "    </div>\n",
              "  </div>\n",
              "  "
            ]
          },
          "metadata": {},
          "execution_count": 6
        }
      ],
      "source": [
        "hp.describe()"
      ]
    },
    {
      "cell_type": "code",
      "execution_count": null,
      "metadata": {
        "id": "E0HKJhYzRA6J"
      },
      "outputs": [],
      "source": [
        "hp.dtypes"
      ]
    },
    {
      "cell_type": "code",
      "execution_count": null,
      "metadata": {
        "id": "-HCZgcc7cw55"
      },
      "outputs": [],
      "source": [
        "hp.isnull().sum()"
      ]
    },
    {
      "cell_type": "markdown",
      "source": [
        "# **Distribution plot**"
      ],
      "metadata": {
        "id": "S8sKoQBxheDE"
      }
    },
    {
      "cell_type": "code",
      "source": [
        "for fd in hp.columns:\n",
        "  hpc=hp.copy()\n",
        "  hpc[fd].hist(bins=25)\n",
        "  plt.title(fd)\n",
        "  plt.xlabel(fd)\n",
        "  plt.ylabel(\"count\")\n",
        "  plt.show()"
      ],
      "metadata": {
        "id": "FOXgz7CFdSrj"
      },
      "execution_count": null,
      "outputs": []
    },
    {
      "cell_type": "code",
      "source": [
        ""
      ],
      "metadata": {
        "id": "RHtjHCcRdSZX"
      },
      "execution_count": null,
      "outputs": []
    },
    {
      "cell_type": "markdown",
      "source": [
        "# **AREA**"
      ],
      "metadata": {
        "id": "V8K9kOvwcn35"
      }
    },
    {
      "cell_type": "code",
      "source": [
        "hp['AREA'].isnull().sum()"
      ],
      "metadata": {
        "colab": {
          "base_uri": "https://localhost:8080/"
        },
        "id": "GrIYL_sWeMSH",
        "outputId": "63b1d989-fcf4-4311-c42f-ddbcf730b5e7"
      },
      "execution_count": 9,
      "outputs": [
        {
          "output_type": "execute_result",
          "data": {
            "text/plain": [
              "0"
            ]
          },
          "metadata": {},
          "execution_count": 9
        }
      ]
    },
    {
      "cell_type": "code",
      "execution_count": 10,
      "metadata": {
        "colab": {
          "base_uri": "https://localhost:8080/"
        },
        "id": "qqYz50HKcxAJ",
        "outputId": "ced78877-d1c1-4798-fe93-6349735d9645"
      },
      "outputs": [
        {
          "output_type": "execute_result",
          "data": {
            "text/plain": [
              "array(['Karapakkam', 'Anna Nagar', 'Adyar', 'Velachery', 'Chrompet',\n",
              "       'KK Nagar', 'TNagar', 'T Nagar', 'Chrompt', 'Chrmpet', 'Karapakam',\n",
              "       'Ana Nagar', 'Chormpet', 'Adyr', 'Velchery', 'Ann Nagar',\n",
              "       'KKNagar'], dtype=object)"
            ]
          },
          "metadata": {},
          "execution_count": 10
        }
      ],
      "source": [
        "hp['AREA'].unique()"
      ]
    },
    {
      "cell_type": "code",
      "execution_count": 11,
      "metadata": {
        "id": "d3-iIEPC1Fgr"
      },
      "outputs": [],
      "source": [
        "hp['AREA']=hp['AREA'].replace({'Karapakam':'Karapakkam','Ana Nagar':'Anna Nagar','Ann Nagar':'Anna Nagar','Adyr':'Adyar','Velchery':'Velachery', 'Chrompt':'Chrompet', 'Chrmpet':'Chrompet','Chormpet':'Chrompet','TNagar':'T Nagar','KKNagar':'KK Nagar'}) "
      ]
    },
    {
      "cell_type": "code",
      "execution_count": 12,
      "metadata": {
        "colab": {
          "base_uri": "https://localhost:8080/",
          "height": 360
        },
        "id": "8KXC-4P81Fm8",
        "outputId": "c3e19115-118c-4499-c8e2-5ea6261e68b4"
      },
      "outputs": [
        {
          "output_type": "execute_result",
          "data": {
            "text/plain": [
              "<matplotlib.axes._subplots.AxesSubplot at 0x7f397248c550>"
            ]
          },
          "metadata": {},
          "execution_count": 12
        },
        {
          "output_type": "display_data",
          "data": {
            "text/plain": [
              "<Figure size 432x288 with 1 Axes>"
            ],
            "image/png": "[encoded data removed]"
          },
          "metadata": {
            "needs_background": "light"
          }
        }
      ],
      "source": [
        "hp.groupby('AREA')['SALES_PRICE'].mean().plot.bar()\n"
      ]
    },
    {
      "cell_type": "code",
      "source": [
        "hp.groupby('AREA')['SALES_PRICE'].mean().sort_values(ascending=True).plot.bar()"
      ],
      "metadata": {
        "colab": {
          "base_uri": "https://localhost:8080/",
          "height": 360
        },
        "id": "8s1MsABqkjZ1",
        "outputId": "2c32aa5f-bddd-4489-a251-7b9dfc123c62"
      },
      "execution_count": 14,
      "outputs": [
        {
          "output_type": "execute_result",
          "data": {
            "text/plain": [
              "<matplotlib.axes._subplots.AxesSubplot at 0x7f3971ecfb10>"
            ]
          },
          "metadata": {},
          "execution_count": 14
        },
        {
          "output_type": "display_data",
          "data": {
            "text/plain": [
              "<Figure size 432x288 with 1 Axes>"
            ],
            "image/png": "[encoded data removed]"
          },
          "metadata": {
            "needs_background": "light"
          }
        }
      ]
    },
    {
      "cell_type": "code",
      "execution_count": 15,
      "metadata": {
        "id": "mrWcF4cCQfjB"
      },
      "outputs": [],
      "source": [
        "hp['AREA']=hp['AREA'].replace({'Karapakkam':0,'Adyar':1,'Chrompet':2,'Velachery':3,'KK Nagar':4, 'Anna Nagar':5,'T Nagar':6})"
      ]
    },
    {
      "cell_type": "code",
      "execution_count": 16,
      "metadata": {
        "colab": {
          "base_uri": "https://localhost:8080/",
          "height": 304
        },
        "id": "82mcz3qdQfke",
        "outputId": "afd2406c-78f9-45c6-bbcc-03e37904f3a4"
      },
      "outputs": [
        {
          "output_type": "execute_result",
          "data": {
            "text/plain": [
              "<matplotlib.axes._subplots.AxesSubplot at 0x7f3971e559d0>"
            ]
          },
          "metadata": {},
          "execution_count": 16
        },
        {
          "output_type": "display_data",
          "data": {
            "text/plain": [
              "<Figure size 432x288 with 1 Axes>"
            ],
            "image/png": "[encoded data removed]"
          },
          "metadata": {
            "needs_background": "light"
          }
        }
      ],
      "source": [
        "hp.groupby('AREA')['SALES_PRICE'].mean().sort_values(ascending=True).plot.bar()\n"
      ]
    },
    {
      "cell_type": "code",
      "source": [
        "hp.AREA.dtype"
      ],
      "metadata": {
        "colab": {
          "base_uri": "https://localhost:8080/"
        },
        "id": "G1PnhDiyhfb7",
        "outputId": "fde5a49f-86ac-493a-ab7a-085562f24d64"
      },
      "execution_count": 17,
      "outputs": [
        {
          "output_type": "execute_result",
          "data": {
            "text/plain": [
              "dtype('int64')"
            ]
          },
          "metadata": {},
          "execution_count": 17
        }
      ]
    },
    {
      "cell_type": "markdown",
      "source": [
        "# **INT_SQFT**"
      ],
      "metadata": {
        "id": "ZBd6sP0Un17E"
      }
    },
    {
      "cell_type": "code",
      "source": [
        "hp.INT_SQFT.values"
      ],
      "metadata": {
        "colab": {
          "base_uri": "https://localhost:8080/"
        },
        "id": "fWyFM_uUhfZm",
        "outputId": "c9efd1c8-7cfc-498b-83dd-0baed1f9b8e8"
      },
      "execution_count": 20,
      "outputs": [
        {
          "output_type": "execute_result",
          "data": {
            "text/plain": [
              "array([1004, 1986,  909, ..., 1614,  787, 1896])"
            ]
          },
          "metadata": {},
          "execution_count": 20
        }
      ]
    },
    {
      "cell_type": "code",
      "source": [
        "hp.plot(['INT_SQFT'])"
      ],
      "metadata": {
        "id": "kNZK-44dhfVm"
      },
      "execution_count": null,
      "outputs": []
    },
    {
      "cell_type": "code",
      "source": [
        "hp.INT_SQFT.isnull().sum()"
      ],
      "metadata": {
        "colab": {
          "base_uri": "https://localhost:8080/"
        },
        "id": "TFAPGRGQhfTp",
        "outputId": "8c348211-1722-4866-f014-7810be03a10a"
      },
      "execution_count": 21,
      "outputs": [
        {
          "output_type": "execute_result",
          "data": {
            "text/plain": [
              "0"
            ]
          },
          "metadata": {},
          "execution_count": 21
        }
      ]
    },
    {
      "cell_type": "code",
      "source": [
        "hp.INT_SQFT.describe()"
      ],
      "metadata": {
        "colab": {
          "base_uri": "https://localhost:8080/"
        },
        "id": "XtCW8FNao4L1",
        "outputId": "dc502a9e-1c31-4eea-82f6-1423ce67fa84"
      },
      "execution_count": 24,
      "outputs": [
        {
          "output_type": "execute_result",
          "data": {
            "text/plain": [
              "count    7109.000000\n",
              "mean     1382.073006\n",
              "std       457.410902\n",
              "min       500.000000\n",
              "25%       993.000000\n",
              "50%      1373.000000\n",
              "75%      1744.000000\n",
              "max      2500.000000\n",
              "Name: INT_SQFT, dtype: float64"
            ]
          },
          "metadata": {},
          "execution_count": 24
        }
      ]
    },
    {
      "cell_type": "code",
      "source": [
        "hp.INT_SQFT.dtype"
      ],
      "metadata": {
        "colab": {
          "base_uri": "https://localhost:8080/"
        },
        "id": "ud3SAuX9o4Jv",
        "outputId": "f2aefbdf-ccac-4c8c-cf6e-8c547f3a00e8"
      },
      "execution_count": 23,
      "outputs": [
        {
          "output_type": "execute_result",
          "data": {
            "text/plain": [
              "dtype('int64')"
            ]
          },
          "metadata": {},
          "execution_count": 23
        }
      ]
    },
    {
      "cell_type": "markdown",
      "source": [
        "# **DATE_SALE**"
      ],
      "metadata": {
        "id": "sYZFUDROrfpb"
      }
    },
    {
      "cell_type": "code",
      "source": [
        "hp.DATE_SALE.values"
      ],
      "metadata": {
        "colab": {
          "base_uri": "https://localhost:8080/"
        },
        "id": "sJAvrOOSrQOr",
        "outputId": "089478b8-7b3e-4569-ceac-6f98f91c9697"
      },
      "execution_count": 25,
      "outputs": [
        {
          "output_type": "execute_result",
          "data": {
            "text/plain": [
              "array(['04-05-2011', '19-12-2006', '04-02-2012', ..., '25-08-2006',\n",
              "       '03-08-2009', '13-07-2005'], dtype=object)"
            ]
          },
          "metadata": {},
          "execution_count": 25
        }
      ]
    },
    {
      "cell_type": "code",
      "source": [
        "hp.DATE_SALE=pd.to_datetime(hp.DATE_SALE)"
      ],
      "metadata": {
        "id": "s3BagISEo4E6"
      },
      "execution_count": 26,
      "outputs": []
    },
    {
      "cell_type": "code",
      "source": [
        "hp.DATE_SALE.dtype"
      ],
      "metadata": {
        "colab": {
          "base_uri": "https://localhost:8080/"
        },
        "id": "Adc4acqKo4DH",
        "outputId": "f575f758-8521-41c4-a100-f614ea3b54df"
      },
      "execution_count": 27,
      "outputs": [
        {
          "output_type": "execute_result",
          "data": {
            "text/plain": [
              "dtype('<M8[ns]')"
            ]
          },
          "metadata": {},
          "execution_count": 27
        }
      ]
    },
    {
      "cell_type": "code",
      "source": [
        "hp[\"SALE_YEAR\"]=pd.DatetimeIndex(hp['DATE_SALE']).year"
      ],
      "metadata": {
        "id": "ZJgCPngLo391"
      },
      "execution_count": 28,
      "outputs": []
    },
    {
      "cell_type": "code",
      "source": [
        "hp.info()"
      ],
      "metadata": {
        "id": "BPpwKlMCo37y"
      },
      "execution_count": null,
      "outputs": []
    },
    {
      "cell_type": "code",
      "source": [
        "hp.DATE_SALE.isnull().sum()"
      ],
      "metadata": {
        "colab": {
          "base_uri": "https://localhost:8080/"
        },
        "id": "9emmSRVko33u",
        "outputId": "ed42e90d-15ff-45a9-82c5-3c065aafe676"
      },
      "execution_count": 32,
      "outputs": [
        {
          "output_type": "execute_result",
          "data": {
            "text/plain": [
              "0"
            ]
          },
          "metadata": {},
          "execution_count": 32
        }
      ]
    },
    {
      "cell_type": "markdown",
      "source": [
        "# **DIST_MAINROAD**"
      ],
      "metadata": {
        "id": "Oj718iO8yooz"
      }
    },
    {
      "cell_type": "code",
      "source": [
        "hp.DIST_MAINROAD.values"
      ],
      "metadata": {
        "id": "KzrgrZHXo31l"
      },
      "execution_count": null,
      "outputs": []
    },
    {
      "cell_type": "code",
      "source": [
        "hp.DIST_MAINROAD.isnull().sum()"
      ],
      "metadata": {
        "id": "LjE5tjPOo3yw"
      },
      "execution_count": null,
      "outputs": []
    },
    {
      "cell_type": "code",
      "source": [
        "hp.DIST_MAINROAD.dtype"
      ],
      "metadata": {
        "id": "2WhSEXo_o3u0"
      },
      "execution_count": null,
      "outputs": []
    },
    {
      "cell_type": "markdown",
      "source": [
        "# **N_BEDROOM**"
      ],
      "metadata": {
        "id": "ZJG9oFWA0Vzp"
      }
    },
    {
      "cell_type": "code",
      "source": [
        "hp.N_BEDROOM.values"
      ],
      "metadata": {
        "colab": {
          "base_uri": "https://localhost:8080/"
        },
        "id": "wldsUw_so3px",
        "outputId": "e29a95f2-6b29-4c7c-9f8e-5fa11fa9ab63"
      },
      "execution_count": 36,
      "outputs": [
        {
          "output_type": "execute_result",
          "data": {
            "text/plain": [
              "array([1., 2., 1., ..., 2., 1., 3.])"
            ]
          },
          "metadata": {},
          "execution_count": 36
        }
      ]
    },
    {
      "cell_type": "code",
      "source": [
        "hp.N_BEDROOM.isnull().sum()"
      ],
      "metadata": {
        "colab": {
          "base_uri": "https://localhost:8080/"
        },
        "id": "UI-UPAeGo3ne",
        "outputId": "3137c881-87d7-4c7c-8a0e-1a4d5ae6b263"
      },
      "execution_count": 37,
      "outputs": [
        {
          "output_type": "execute_result",
          "data": {
            "text/plain": [
              "1"
            ]
          },
          "metadata": {},
          "execution_count": 37
        }
      ]
    },
    {
      "cell_type": "code",
      "source": [
        "a=hp.N_BEDROOM.mode()\n",
        "hp.N_BEDROOM.fillna(int(a),inplace=True)"
      ],
      "metadata": {
        "id": "anbmawGQo3hq"
      },
      "execution_count": 38,
      "outputs": []
    },
    {
      "cell_type": "code",
      "source": [
        "hp.N_BEDROOM.value_counts()"
      ],
      "metadata": {
        "colab": {
          "base_uri": "https://localhost:8080/"
        },
        "id": "4GfwM7UXo3Zv",
        "outputId": "b7854e2a-e424-4ec4-f3a5-a6204e9a53e3"
      },
      "execution_count": 39,
      "outputs": [
        {
          "output_type": "execute_result",
          "data": {
            "text/plain": [
              "1.0    3796\n",
              "2.0    2352\n",
              "3.0     707\n",
              "4.0     254\n",
              "Name: N_BEDROOM, dtype: int64"
            ]
          },
          "metadata": {},
          "execution_count": 39
        }
      ]
    },
    {
      "cell_type": "code",
      "source": [
        "hp.N_BEDROOM.dtype"
      ],
      "metadata": {
        "colab": {
          "base_uri": "https://localhost:8080/"
        },
        "id": "LtlwlkI1BgVl",
        "outputId": "1ba6edeb-a381-4017-9f65-e09005b77102"
      },
      "execution_count": 40,
      "outputs": [
        {
          "output_type": "execute_result",
          "data": {
            "text/plain": [
              "dtype('float64')"
            ]
          },
          "metadata": {},
          "execution_count": 40
        }
      ]
    },
    {
      "cell_type": "markdown",
      "source": [
        "# **N_BATHROOM**"
      ],
      "metadata": {
        "id": "nG5Q2vbn_PjV"
      }
    },
    {
      "cell_type": "code",
      "source": [
        "hp.N_BATHROOM.value_counts()"
      ],
      "metadata": {
        "colab": {
          "base_uri": "https://localhost:8080/"
        },
        "id": "KJPY17Dco3Xt",
        "outputId": "0d052d66-363b-44af-85a9-39241df3750e"
      },
      "execution_count": 41,
      "outputs": [
        {
          "output_type": "execute_result",
          "data": {
            "text/plain": [
              "1.0    5589\n",
              "2.0    1515\n",
              "Name: N_BATHROOM, dtype: int64"
            ]
          },
          "metadata": {},
          "execution_count": 41
        }
      ]
    },
    {
      "cell_type": "code",
      "source": [
        "hp.N_BATHROOM.isnull().sum()"
      ],
      "metadata": {
        "colab": {
          "base_uri": "https://localhost:8080/"
        },
        "id": "BE3Hjn7no3R4",
        "outputId": "0f898abd-9671-44ce-8aa4-1118b547d02f"
      },
      "execution_count": 42,
      "outputs": [
        {
          "output_type": "execute_result",
          "data": {
            "text/plain": [
              "5"
            ]
          },
          "metadata": {},
          "execution_count": 42
        }
      ]
    },
    {
      "cell_type": "code",
      "source": [
        "b=hp.N_BATHROOM.mode()\n",
        "hp.N_BATHROOM.fillna(int(b),inplace=True)"
      ],
      "metadata": {
        "id": "JBpAQsJ1o3Qb"
      },
      "execution_count": 43,
      "outputs": []
    },
    {
      "cell_type": "code",
      "source": [
        "hp.N_BATHROOM.dtype"
      ],
      "metadata": {
        "colab": {
          "base_uri": "https://localhost:8080/"
        },
        "id": "570E_v50o3Lq",
        "outputId": "128d604a-5a0c-4462-9a54-c90cffde00b1"
      },
      "execution_count": 44,
      "outputs": [
        {
          "output_type": "execute_result",
          "data": {
            "text/plain": [
              "dtype('float64')"
            ]
          },
          "metadata": {},
          "execution_count": 44
        }
      ]
    },
    {
      "cell_type": "markdown",
      "source": [
        "# **N_ROOM**"
      ],
      "metadata": {
        "id": "tI3ZP9INBvbE"
      }
    },
    {
      "cell_type": "code",
      "source": [
        "hp.N_ROOM.value_counts()"
      ],
      "metadata": {
        "colab": {
          "base_uri": "https://localhost:8080/"
        },
        "id": "WYzityCUo3J5",
        "outputId": "a574803b-90c6-47f8-f711-be9cd9085909"
      },
      "execution_count": 45,
      "outputs": [
        {
          "output_type": "execute_result",
          "data": {
            "text/plain": [
              "4    2563\n",
              "3    2125\n",
              "5    1246\n",
              "2     921\n",
              "6     254\n",
              "Name: N_ROOM, dtype: int64"
            ]
          },
          "metadata": {},
          "execution_count": 45
        }
      ]
    },
    {
      "cell_type": "code",
      "source": [
        "hp.N_ROOM.isnull().sum()"
      ],
      "metadata": {
        "colab": {
          "base_uri": "https://localhost:8080/"
        },
        "id": "iT33fJufo3GH",
        "outputId": "39e484ac-075c-43ad-bee7-3eda12679a38"
      },
      "execution_count": 46,
      "outputs": [
        {
          "output_type": "execute_result",
          "data": {
            "text/plain": [
              "0"
            ]
          },
          "metadata": {},
          "execution_count": 46
        }
      ]
    },
    {
      "cell_type": "code",
      "source": [
        "hp.N_ROOM.dtype"
      ],
      "metadata": {
        "colab": {
          "base_uri": "https://localhost:8080/"
        },
        "id": "dpFdzxWyo3Dp",
        "outputId": "43e36b32-8d66-4c8a-b93f-683baa7095da"
      },
      "execution_count": 47,
      "outputs": [
        {
          "output_type": "execute_result",
          "data": {
            "text/plain": [
              "dtype('int64')"
            ]
          },
          "metadata": {},
          "execution_count": 47
        }
      ]
    },
    {
      "cell_type": "markdown",
      "source": [
        "# **SALE_COND**"
      ],
      "metadata": {
        "id": "7EI9tqbwDN5Z"
      }
    },
    {
      "cell_type": "code",
      "source": [
        "hp.SALE_COND.value_counts()"
      ],
      "metadata": {
        "colab": {
          "base_uri": "https://localhost:8080/"
        },
        "id": "nFw7gXm1hfOr",
        "outputId": "4e7f88e8-96c7-4be8-ec85-618e44a25655"
      },
      "execution_count": 48,
      "outputs": [
        {
          "output_type": "execute_result",
          "data": {
            "text/plain": [
              "AdjLand        1433\n",
              "Partial        1429\n",
              "Normal Sale    1423\n",
              "AbNormal       1406\n",
              "Family         1403\n",
              "Adj Land          6\n",
              "Ab Normal         5\n",
              "Partiall          3\n",
              "PartiaLl          1\n",
              "Name: SALE_COND, dtype: int64"
            ]
          },
          "metadata": {},
          "execution_count": 48
        }
      ]
    },
    {
      "cell_type": "code",
      "source": [
        "hp.SALE_COND.unique()"
      ],
      "metadata": {
        "colab": {
          "base_uri": "https://localhost:8080/"
        },
        "id": "2cHj6rXphfMu",
        "outputId": "3179f3ba-af29-4187-e39a-a9fdc92096c9"
      },
      "execution_count": 49,
      "outputs": [
        {
          "output_type": "execute_result",
          "data": {
            "text/plain": [
              "array(['AbNormal', 'Family', 'Partial', 'AdjLand', 'Normal Sale',\n",
              "       'Ab Normal', 'Partiall', 'Adj Land', 'PartiaLl'], dtype=object)"
            ]
          },
          "metadata": {},
          "execution_count": 49
        }
      ]
    },
    {
      "cell_type": "code",
      "source": [
        "hp['SALE_COND']=hp['SALE_COND'].replace({'Ab Normal':'AbNormal','PartiaLl':'Partial','Partiall':'Partial','Adj Land':'AdjLand'})"
      ],
      "metadata": {
        "id": "SugLC59KhfHm"
      },
      "execution_count": 50,
      "outputs": []
    },
    {
      "cell_type": "code",
      "source": [
        "hp.groupby('SALE_COND')['SALES_PRICE'].mean().sort_values().plot.bar()"
      ],
      "metadata": {
        "colab": {
          "base_uri": "https://localhost:8080/",
          "height": 359
        },
        "id": "WrBL3IAQhfFz",
        "outputId": "a1caa991-5ee8-49aa-fc6b-ce36a95d507c"
      },
      "execution_count": 51,
      "outputs": [
        {
          "output_type": "execute_result",
          "data": {
            "text/plain": [
              "<matplotlib.axes._subplots.AxesSubplot at 0x7f3971c4add0>"
            ]
          },
          "metadata": {},
          "execution_count": 51
        },
        {
          "output_type": "display_data",
          "data": {
            "text/plain": [
              "<Figure size 432x288 with 1 Axes>"
            ],
            "image/png": "[encoded data removed]"
          },
          "metadata": {
            "needs_background": "light"
          }
        }
      ]
    },
    {
      "cell_type": "code",
      "source": [
        "hp['SALE_COND']=hp['SALE_COND'].replace({'Partial':0,'Family':1,'AbNormal':2,'Normal Sale':3,'AdjLand':4})"
      ],
      "metadata": {
        "id": "CTDA3OrahfAp"
      },
      "execution_count": 52,
      "outputs": []
    },
    {
      "cell_type": "code",
      "source": [
        "hp.groupby('SALE_COND')['SALES_PRICE'].mean().sort_values().plot.bar()"
      ],
      "metadata": {
        "colab": {
          "base_uri": "https://localhost:8080/",
          "height": 305
        },
        "id": "lKMoxdr8he--",
        "outputId": "a01410a1-a50b-4bec-ccdf-04c0ed83309f"
      },
      "execution_count": 53,
      "outputs": [
        {
          "output_type": "execute_result",
          "data": {
            "text/plain": [
              "<matplotlib.axes._subplots.AxesSubplot at 0x7f3971c23a90>"
            ]
          },
          "metadata": {},
          "execution_count": 53
        },
        {
          "output_type": "display_data",
          "data": {
            "text/plain": [
              "<Figure size 432x288 with 1 Axes>"
            ],
            "image/png": "[encoded data removed]"
          },
          "metadata": {
            "needs_background": "light"
          }
        }
      ]
    },
    {
      "cell_type": "code",
      "source": [
        "hp.SALE_COND.isnull().sum()"
      ],
      "metadata": {
        "colab": {
          "base_uri": "https://localhost:8080/"
        },
        "id": "qfTD7kEMhe5z",
        "outputId": "92e52649-6ddb-443e-9327-e68eca53c69b"
      },
      "execution_count": 54,
      "outputs": [
        {
          "output_type": "execute_result",
          "data": {
            "text/plain": [
              "0"
            ]
          },
          "metadata": {},
          "execution_count": 54
        }
      ]
    },
    {
      "cell_type": "code",
      "source": [
        "hp.SALE_COND.dtype   "
      ],
      "metadata": {
        "colab": {
          "base_uri": "https://localhost:8080/"
        },
        "id": "juJh9u1Qhe4O",
        "outputId": "bb287883-3413-462e-f4a2-79bfab4288c2"
      },
      "execution_count": 55,
      "outputs": [
        {
          "output_type": "execute_result",
          "data": {
            "text/plain": [
              "dtype('int64')"
            ]
          },
          "metadata": {},
          "execution_count": 55
        }
      ]
    },
    {
      "cell_type": "markdown",
      "source": [
        "# **PARK_FACIL**"
      ],
      "metadata": {
        "id": "qX-pvrPPN91s"
      }
    },
    {
      "cell_type": "code",
      "source": [
        "hp.PARK_FACIL.value_counts()"
      ],
      "metadata": {
        "colab": {
          "base_uri": "https://localhost:8080/"
        },
        "id": "ccmiUF8XhezJ",
        "outputId": "74c0ff77-01e0-4490-a43d-e7fcbf0c2744"
      },
      "execution_count": 56,
      "outputs": [
        {
          "output_type": "execute_result",
          "data": {
            "text/plain": [
              "Yes    3587\n",
              "No     3520\n",
              "Noo       2\n",
              "Name: PARK_FACIL, dtype: int64"
            ]
          },
          "metadata": {},
          "execution_count": 56
        }
      ]
    },
    {
      "cell_type": "code",
      "source": [
        "hp.PARK_FACIL.isnull().sum()"
      ],
      "metadata": {
        "colab": {
          "base_uri": "https://localhost:8080/"
        },
        "id": "FBMiapzxOHWA",
        "outputId": "2e0b66ef-65eb-478d-8139-33c3b83ab9fe"
      },
      "execution_count": 57,
      "outputs": [
        {
          "output_type": "execute_result",
          "data": {
            "text/plain": [
              "0"
            ]
          },
          "metadata": {},
          "execution_count": 57
        }
      ]
    },
    {
      "cell_type": "code",
      "source": [
        "hp['PARK_FACIL']=hp['PARK_FACIL'].replace({'Yes':1,'No':0,'Noo':0})"
      ],
      "metadata": {
        "id": "WMLNiYRUOHQb"
      },
      "execution_count": 58,
      "outputs": []
    },
    {
      "cell_type": "code",
      "source": [
        "hp.info()"
      ],
      "metadata": {
        "id": "YPHJBLfOOHOi"
      },
      "execution_count": null,
      "outputs": []
    },
    {
      "cell_type": "markdown",
      "source": [
        "# **DATE_BUILD**"
      ],
      "metadata": {
        "id": "B-aHadEHbXnb"
      }
    },
    {
      "cell_type": "code",
      "source": [
        "hp.DATE_BUILD.value_counts()"
      ],
      "metadata": {
        "colab": {
          "base_uri": "https://localhost:8080/"
        },
        "id": "Ij2dC0AROHIV",
        "outputId": "4c8da49d-bac2-4774-ecc9-3738263a5969"
      },
      "execution_count": 60,
      "outputs": [
        {
          "output_type": "execute_result",
          "data": {
            "text/plain": [
              "02-07-1987    6\n",
              "04-04-1999    5\n",
              "27-08-2000    4\n",
              "13-05-1982    4\n",
              "08-04-1989    4\n",
              "             ..\n",
              "24-07-1970    1\n",
              "12-02-1998    1\n",
              "04-11-1977    1\n",
              "21-04-1986    1\n",
              "24-07-1961    1\n",
              "Name: DATE_BUILD, Length: 5808, dtype: int64"
            ]
          },
          "metadata": {},
          "execution_count": 60
        }
      ]
    },
    {
      "cell_type": "code",
      "source": [
        "hp.DATE_BUILD=pd.to_datetime(hp.DATE_BUILD)"
      ],
      "metadata": {
        "id": "N1i_M3voOHA5"
      },
      "execution_count": 61,
      "outputs": []
    },
    {
      "cell_type": "code",
      "source": [
        "hp.DATE_BUILD.dtype"
      ],
      "metadata": {
        "colab": {
          "base_uri": "https://localhost:8080/"
        },
        "id": "3CldVYnCc0tL",
        "outputId": "91a2b24b-74e9-48ea-f2b0-e3758e7dff93"
      },
      "execution_count": 62,
      "outputs": [
        {
          "output_type": "execute_result",
          "data": {
            "text/plain": [
              "dtype('<M8[ns]')"
            ]
          },
          "metadata": {},
          "execution_count": 62
        }
      ]
    },
    {
      "cell_type": "code",
      "source": [
        "hp['BUILD_YEAR']=pd.DatetimeIndex(hp['DATE_BUILD']).year"
      ],
      "metadata": {
        "id": "9JgXyetxOG8A"
      },
      "execution_count": 63,
      "outputs": []
    },
    {
      "cell_type": "code",
      "source": [
        "hp['AGE']=hp['SALE_YEAR']-hp['BUILD_YEAR']"
      ],
      "metadata": {
        "id": "PWrWu2vsOG6R"
      },
      "execution_count": 64,
      "outputs": []
    },
    {
      "cell_type": "markdown",
      "source": [
        "# AGE"
      ],
      "metadata": {
        "id": "l4XBOg9EeWAO"
      }
    },
    {
      "cell_type": "code",
      "source": [
        "hp.AGE.values"
      ],
      "metadata": {
        "colab": {
          "base_uri": "https://localhost:8080/"
        },
        "id": "J3gMxbKmOG11",
        "outputId": "0fbc3bd5-7c79-4c89-d98c-fc1bc9ccafb4"
      },
      "execution_count": 65,
      "outputs": [
        {
          "output_type": "execute_result",
          "data": {
            "text/plain": [
              "array([44, 11, 20, ..., 28, 32, 44])"
            ]
          },
          "metadata": {},
          "execution_count": 65
        }
      ]
    },
    {
      "cell_type": "code",
      "source": [
        "hp.AGE.isnull().sum()"
      ],
      "metadata": {
        "colab": {
          "base_uri": "https://localhost:8080/"
        },
        "id": "bNz94FrjOG0W",
        "outputId": "834b3205-2013-417c-d0c1-3043b9bc75d6"
      },
      "execution_count": 66,
      "outputs": [
        {
          "output_type": "execute_result",
          "data": {
            "text/plain": [
              "0"
            ]
          },
          "metadata": {},
          "execution_count": 66
        }
      ]
    },
    {
      "cell_type": "code",
      "source": [
        "hp.AGE.describe()"
      ],
      "metadata": {
        "colab": {
          "base_uri": "https://localhost:8080/"
        },
        "id": "FOedacT-OGvv",
        "outputId": "045c8c15-1e02-4068-e8e4-12a879641392"
      },
      "execution_count": 67,
      "outputs": [
        {
          "output_type": "execute_result",
          "data": {
            "text/plain": [
              "count    7109.000000\n",
              "mean       24.276270\n",
              "std        12.334164\n",
              "min         3.000000\n",
              "25%        14.000000\n",
              "50%        23.000000\n",
              "75%        34.000000\n",
              "max        55.000000\n",
              "Name: AGE, dtype: float64"
            ]
          },
          "metadata": {},
          "execution_count": 67
        }
      ]
    },
    {
      "cell_type": "markdown",
      "source": [
        "# **BUILDTYPE**"
      ],
      "metadata": {
        "id": "L5um6KtygatX"
      }
    },
    {
      "cell_type": "code",
      "source": [
        "hp.BUILDTYPE.value_counts()"
      ],
      "metadata": {
        "colab": {
          "base_uri": "https://localhost:8080/"
        },
        "id": "xZlM3aJIOGuC",
        "outputId": "db206747-1d79-4350-ee44-7e3d29e4df35"
      },
      "execution_count": 68,
      "outputs": [
        {
          "output_type": "execute_result",
          "data": {
            "text/plain": [
              "House         2444\n",
              "Commercial    2325\n",
              "Others        2310\n",
              "Other           26\n",
              "Comercial        4\n",
              "Name: BUILDTYPE, dtype: int64"
            ]
          },
          "metadata": {},
          "execution_count": 68
        }
      ]
    },
    {
      "cell_type": "code",
      "source": [
        "hp.BUILDTYPE.unique()"
      ],
      "metadata": {
        "colab": {
          "base_uri": "https://localhost:8080/"
        },
        "id": "IVdSHqn8gYeo",
        "outputId": "c24e2912-985f-452e-eb26-d0e50eb86c07"
      },
      "execution_count": 69,
      "outputs": [
        {
          "output_type": "execute_result",
          "data": {
            "text/plain": [
              "array(['Commercial', 'Others', 'Other', 'House', 'Comercial'],\n",
              "      dtype=object)"
            ]
          },
          "metadata": {},
          "execution_count": 69
        }
      ]
    },
    {
      "cell_type": "code",
      "source": [
        "hp['BUILDTYPE']=hp['BUILDTYPE'].replace({'Comercial':'Commercial','Others':'Other'})"
      ],
      "metadata": {
        "id": "6MOqs_VgOGf_"
      },
      "execution_count": 70,
      "outputs": []
    },
    {
      "cell_type": "code",
      "source": [
        "hp.groupby('BUILDTYPE')['SALES_PRICE'].mean().sort_values().plot.bar()"
      ],
      "metadata": {
        "colab": {
          "base_uri": "https://localhost:8080/",
          "height": 357
        },
        "id": "ZWlrfBIXhexp",
        "outputId": "a8482f17-2b2b-40b4-aa3d-3b1f60fd93f0"
      },
      "execution_count": 71,
      "outputs": [
        {
          "output_type": "execute_result",
          "data": {
            "text/plain": [
              "<matplotlib.axes._subplots.AxesSubplot at 0x7f3971ab1b10>"
            ]
          },
          "metadata": {},
          "execution_count": 71
        },
        {
          "output_type": "display_data",
          "data": {
            "text/plain": [
              "<Figure size 432x288 with 1 Axes>"
            ],
            "image/png": "[encoded data removed]"
          },
          "metadata": {
            "needs_background": "light"
          }
        }
      ]
    },
    {
      "cell_type": "code",
      "source": [
        "hp=pd.get_dummies(hp,columns=['BUILDTYPE'])"
      ],
      "metadata": {
        "id": "-gNCGXFphetc"
      },
      "execution_count": 72,
      "outputs": []
    },
    {
      "cell_type": "markdown",
      "source": [
        "# **UTILITY_AVAIL**"
      ],
      "metadata": {
        "id": "wKDzlKe4oOxo"
      }
    },
    {
      "cell_type": "code",
      "source": [
        "hp.UTILITY_AVAIL.value_counts()"
      ],
      "metadata": {
        "colab": {
          "base_uri": "https://localhost:8080/"
        },
        "id": "yq64XYxTherR",
        "outputId": "7c71c5ae-2f0e-4939-a943-9febdc6abdad"
      },
      "execution_count": 73,
      "outputs": [
        {
          "output_type": "execute_result",
          "data": {
            "text/plain": [
              "AllPub     1886\n",
              "NoSeWa     1871\n",
              "NoSewr     1829\n",
              "ELO        1522\n",
              "All Pub       1\n",
              "Name: UTILITY_AVAIL, dtype: int64"
            ]
          },
          "metadata": {},
          "execution_count": 73
        }
      ]
    },
    {
      "cell_type": "code",
      "source": [
        "hp.UTILITY_AVAIL.unique()"
      ],
      "metadata": {
        "colab": {
          "base_uri": "https://localhost:8080/"
        },
        "id": "0cXgs8u1hemR",
        "outputId": "d491b100-aee3-4d64-ee0e-a28a75bd7e05"
      },
      "execution_count": 74,
      "outputs": [
        {
          "output_type": "execute_result",
          "data": {
            "text/plain": [
              "array(['AllPub', 'ELO', 'NoSewr ', 'NoSeWa', 'All Pub'], dtype=object)"
            ]
          },
          "metadata": {},
          "execution_count": 74
        }
      ]
    },
    {
      "cell_type": "code",
      "source": [
        "hp['UTILITY_AVAIL']=hp['UTILITY_AVAIL'].replace({'All Pub':'AllPub'})"
      ],
      "metadata": {
        "id": "gprl8Nffhekw"
      },
      "execution_count": 75,
      "outputs": []
    },
    {
      "cell_type": "code",
      "source": [
        "hp.groupby('UTILITY_AVAIL')['SALES_PRICE'].mean().sort_values().plot.bar()"
      ],
      "metadata": {
        "colab": {
          "base_uri": "https://localhost:8080/",
          "height": 339
        },
        "id": "4sogw4Tfhef5",
        "outputId": "551eac63-c775-4f0d-c037-19bba40b6daf"
      },
      "execution_count": 76,
      "outputs": [
        {
          "output_type": "execute_result",
          "data": {
            "text/plain": [
              "<matplotlib.axes._subplots.AxesSubplot at 0x7f3971f37ed0>"
            ]
          },
          "metadata": {},
          "execution_count": 76
        },
        {
          "output_type": "display_data",
          "data": {
            "text/plain": [
              "<Figure size 432x288 with 1 Axes>"
            ],
            "image/png": "[encoded data removed]"
          },
          "metadata": {
            "needs_background": "light"
          }
        }
      ]
    },
    {
      "cell_type": "code",
      "source": [
        "hp=pd.get_dummies(hp,columns=['UTILITY_AVAIL'])"
      ],
      "metadata": {
        "id": "J7IsT_TFwpXI"
      },
      "execution_count": 77,
      "outputs": []
    },
    {
      "cell_type": "code",
      "source": [
        "hp.info()"
      ],
      "metadata": {
        "id": "YCgjNVozhed8"
      },
      "execution_count": null,
      "outputs": []
    },
    {
      "cell_type": "markdown",
      "source": [
        "# **STREET** "
      ],
      "metadata": {
        "id": "alqDKcx-evhs"
      }
    },
    {
      "cell_type": "code",
      "source": [
        "hp.STREET.value_counts()"
      ],
      "metadata": {
        "id": "H5ycvX8SheY1"
      },
      "execution_count": null,
      "outputs": []
    },
    {
      "cell_type": "code",
      "source": [
        "hp.STREET.unique()"
      ],
      "metadata": {
        "colab": {
          "base_uri": "https://localhost:8080/"
        },
        "id": "CMCumuq5heXL",
        "outputId": "8083a6fe-01d6-4d69-d0e9-7a9b4506f1d7"
      },
      "execution_count": 83,
      "outputs": [
        {
          "output_type": "execute_result",
          "data": {
            "text/plain": [
              "array(['Paved', 'Gravel', 'NoAccess'], dtype=object)"
            ]
          },
          "metadata": {},
          "execution_count": 83
        }
      ]
    },
    {
      "cell_type": "code",
      "source": [
        "hp['STREET']=hp['STREET'].replace({'Pavd':'Paved','No Access':'NoAccess'})"
      ],
      "metadata": {
        "id": "cdl1qWO6heSd"
      },
      "execution_count": 82,
      "outputs": []
    },
    {
      "cell_type": "code",
      "source": [
        "hp.groupby('STREET')['SALES_PRICE'].mean().sort_values().plot.bar()"
      ],
      "metadata": {
        "colab": {
          "base_uri": "https://localhost:8080/",
          "height": 304
        },
        "id": "VPBJdKsfheQn",
        "outputId": "b0428ae1-c29c-40eb-a42a-370e4d26008d"
      },
      "execution_count": 88,
      "outputs": [
        {
          "output_type": "execute_result",
          "data": {
            "text/plain": [
              "<matplotlib.axes._subplots.AxesSubplot at 0x7f396fa821d0>"
            ]
          },
          "metadata": {},
          "execution_count": 88
        },
        {
          "output_type": "display_data",
          "data": {
            "text/plain": [
              "<Figure size 432x288 with 1 Axes>"
            ],
            "image/png": "[encoded data removed]"
          },
          "metadata": {
            "needs_background": "light"
          }
        }
      ]
    },
    {
      "cell_type": "code",
      "source": [
        "hp['STREET']=hp['STREET'].replace({'NoAccess':0,'Paved':1,'Gravel':2})"
      ],
      "metadata": {
        "id": "oKDySspjheLz"
      },
      "execution_count": 87,
      "outputs": []
    },
    {
      "cell_type": "markdown",
      "source": [
        "# **MZZONE**"
      ],
      "metadata": {
        "id": "xD3DcfiChyxU"
      }
    },
    {
      "cell_type": "code",
      "source": [
        "hp.MZZONE.values"
      ],
      "metadata": {
        "colab": {
          "base_uri": "https://localhost:8080/"
        },
        "id": "s2An4WJnheJ8",
        "outputId": "f64b4339-de10-4812-c672-caa82811bd27"
      },
      "execution_count": 94,
      "outputs": [
        {
          "output_type": "execute_result",
          "data": {
            "text/plain": [
              "array(['A', 'RH', 'RL', ..., 'I', 'RL', 'I'], dtype=object)"
            ]
          },
          "metadata": {},
          "execution_count": 94
        }
      ]
    },
    {
      "cell_type": "code",
      "source": [
        "hp.MZZONE.unique()"
      ],
      "metadata": {
        "colab": {
          "base_uri": "https://localhost:8080/"
        },
        "id": "J9M1k6bZheGa",
        "outputId": "2fe0514d-f4b2-496b-98fd-bfc147233f95"
      },
      "execution_count": 98,
      "outputs": [
        {
          "output_type": "execute_result",
          "data": {
            "text/plain": [
              "array(['A', 'RH', 'RL', 'I', 'C', 'RM'], dtype=object)"
            ]
          },
          "metadata": {},
          "execution_count": 98
        }
      ]
    },
    {
      "cell_type": "code",
      "source": [
        "hp.groupby('MZZONE')['SALES_PRICE'].mean().sort_values().plot.bar()"
      ],
      "metadata": {
        "colab": {
          "base_uri": "https://localhost:8080/",
          "height": 304
        },
        "id": "rho3OaJ9heDd",
        "outputId": "5830ab32-08db-4e0d-d84f-4afa548f50f0"
      },
      "execution_count": 102,
      "outputs": [
        {
          "output_type": "execute_result",
          "data": {
            "text/plain": [
              "<matplotlib.axes._subplots.AxesSubplot at 0x7f396f9c4710>"
            ]
          },
          "metadata": {},
          "execution_count": 102
        },
        {
          "output_type": "display_data",
          "data": {
            "text/plain": [
              "<Figure size 432x288 with 1 Axes>"
            ],
            "image/png": "[encoded data removed]"
          },
          "metadata": {
            "needs_background": "light"
          }
        }
      ]
    },
    {
      "cell_type": "code",
      "source": [
        "hp['MZZONE']=hp['MZZONE'].replace({'A':0,'C':1,'I':2,'RH':3,'RL':4,'RM':5})"
      ],
      "metadata": {
        "id": "_weeJ9Sqhd-I"
      },
      "execution_count": 101,
      "outputs": []
    },
    {
      "cell_type": "code",
      "source": [
        "hp.MZZONE.isnull().sum()"
      ],
      "metadata": {
        "id": "XDNy0yTChd8O"
      },
      "execution_count": null,
      "outputs": []
    },
    {
      "cell_type": "code",
      "source": [
        "hp.MZZONE.dtype"
      ],
      "metadata": {
        "id": "qAHXPJ9Lhd2s"
      },
      "execution_count": null,
      "outputs": []
    },
    {
      "cell_type": "markdown",
      "source": [
        "# fill null **values**"
      ],
      "metadata": {
        "id": "x3Hsg69h9xpl"
      }
    },
    {
      "cell_type": "code",
      "source": [
        "hp.QS_OVERALL.isnull().sum()"
      ],
      "metadata": {
        "id": "YSnrHmQv9vkD"
      },
      "execution_count": null,
      "outputs": []
    },
    {
      "cell_type": "code",
      "source": [
        "hp.QS_OVERALL.values"
      ],
      "metadata": {
        "colab": {
          "base_uri": "https://localhost:8080/"
        },
        "id": "1WwEOosa_ouV",
        "outputId": "f0f2d026-5944-4097-cb51-5c42496b9634"
      },
      "execution_count": 120,
      "outputs": [
        {
          "output_type": "execute_result",
          "data": {
            "text/plain": [
              "array([4.33 , 3.765, 3.09 , ..., 3.84 , 4.16 , 3.64 ])"
            ]
          },
          "metadata": {},
          "execution_count": 120
        }
      ]
    },
    {
      "cell_type": "code",
      "source": [
        "c=hp.QS_OVERALL.mean()\n",
        "hp.QS_OVERALL.fillna(int(c),inplace=True)"
      ],
      "metadata": {
        "id": "TfneO-0O9vhr"
      },
      "execution_count": 115,
      "outputs": []
    },
    {
      "cell_type": "markdown",
      "source": [
        "# Data type **change**"
      ],
      "metadata": {
        "id": "UsQGBThXjUkX"
      }
    },
    {
      "cell_type": "code",
      "source": [
        "hp=hp.astype({'N_BEDROOM':int,'N_BATHROOM':int,'QS_OVERALL':int,'QS_BEDROOM':int,'QS_BATHROOM':int,'QS_ROOMS':int})"
      ],
      "metadata": {
        "id": "GMBOkKED9vQs"
      },
      "execution_count": 145,
      "outputs": []
    },
    {
      "cell_type": "code",
      "source": [
        "hp=hp.drop(columns=['BUILD_YEAR','SALE_YEAR','DATE_SALE','DATE_BUILD'])"
      ],
      "metadata": {
        "id": "YXYxpTGPEeXZ"
      },
      "execution_count": 124,
      "outputs": []
    },
    {
      "cell_type": "code",
      "source": [
        "hp.info()"
      ],
      "metadata": {
        "id": "I-jmNswzhd05"
      },
      "execution_count": null,
      "outputs": []
    },
    {
      "cell_type": "code",
      "source": [
        "hp.isnull().sum()"
      ],
      "metadata": {
        "id": "KzVdtNTLhdvj"
      },
      "execution_count": null,
      "outputs": []
    },
    {
      "cell_type": "markdown",
      "source": [
        "# data **cleaned**"
      ],
      "metadata": {
        "id": "XWPj7tS8FiT3"
      }
    },
    {
      "cell_type": "markdown",
      "source": [
        "# split **data**"
      ],
      "metadata": {
        "id": "2OO2DiiSjkeF"
      }
    },
    {
      "cell_type": "code",
      "source": [
        "X = hp.drop(['SALES_PRICE'],axis=1)\n",
        "y = hp['SALES_PRICE']"
      ],
      "metadata": {
        "id": "nZ-JkUkchdt3"
      },
      "execution_count": 203,
      "outputs": []
    },
    {
      "cell_type": "code",
      "source": [
        "from sklearn.model_selection import train_test_split\n",
        "\n",
        "X_train, X_test, y_train, y_test = train_test_split(X, y, test_size=0.3)"
      ],
      "metadata": {
        "id": "y36-iTPFhdn_"
      },
      "execution_count": 204,
      "outputs": []
    },
    {
      "cell_type": "markdown",
      "source": [
        "# Decisiontree **regressor**"
      ],
      "metadata": {
        "id": "QThE_U1pH_k6"
      }
    },
    {
      "cell_type": "code",
      "source": [
        "from sklearn.tree import DecisionTreeRegressor\n",
        "\n",
        "dt = DecisionTreeRegressor()\n",
        "dt.fit(X_train, y_train) \n",
        "y_pred = dt.predict(X_test)\n",
        "y_pred"
      ],
      "metadata": {
        "colab": {
          "base_uri": "https://localhost:8080/"
        },
        "id": "9OuHBFiYhdmc",
        "outputId": "9aafd1ab-280f-4791-f1da-b8e8750cd9cb"
      },
      "execution_count": 206,
      "outputs": [
        {
          "output_type": "execute_result",
          "data": {
            "text/plain": [
              "array([ 9468300., 11060050.,  5412500., ..., 14292780., 12946530.,\n",
              "        7497100.])"
            ]
          },
          "metadata": {},
          "execution_count": 206
        }
      ]
    },
    {
      "cell_type": "code",
      "source": [
        "from sklearn import metrics\n",
        "r2=metrics.r2_score(y_test,y_pred)\n",
        "print('Decisiontree Modal r2_score',round(r2,2))"
      ],
      "metadata": {
        "colab": {
          "base_uri": "https://localhost:8080/"
        },
        "id": "a_wRG4Srhdh4",
        "outputId": "fc2c19b6-50f7-4466-90d4-bb425f0ec97b"
      },
      "execution_count": 207,
      "outputs": [
        {
          "output_type": "stream",
          "name": "stdout",
          "text": [
            "Decisiontree Modal r2_score 0.97\n"
          ]
        }
      ]
    },
    {
      "cell_type": "markdown",
      "source": [
        "# Linear **Regressor**"
      ],
      "metadata": {
        "id": "WQjANpP1Sm5T"
      }
    },
    {
      "cell_type": "code",
      "source": [
        "from sklearn.linear_model import LinearRegression\n",
        "lr=LinearRegression()\n",
        "lr.fit(X_train,y_train)\n",
        "y_pred_lr=lr.predict(X_test)\n",
        "y_pred_lr"
      ],
      "metadata": {
        "colab": {
          "base_uri": "https://localhost:8080/"
        },
        "id": "Be2RIhvuhdgH",
        "outputId": "b6adb5bf-1708-4859-e594-426b2c9632e6"
      },
      "execution_count": 217,
      "outputs": [
        {
          "output_type": "execute_result",
          "data": {
            "text/plain": [
              "array([ 8614932.75776854,  9038006.28606592,  5801093.76151499, ...,\n",
              "       14084661.97736348, 12764590.69230185,  6343061.14680294])"
            ]
          },
          "metadata": {},
          "execution_count": 217
        }
      ]
    },
    {
      "cell_type": "code",
      "source": [
        "from sklearn import metrics\n",
        "r2=metrics.r2_score(y_test,y_pred_lr)\n",
        "print(\"Linear Regressor r2_score\",round(r2,2))"
      ],
      "metadata": {
        "colab": {
          "base_uri": "https://localhost:8080/"
        },
        "id": "FYPq7SG6hdcN",
        "outputId": "46eebc79-0ce9-4d6e-af75-9b01a09a84cc"
      },
      "execution_count": 218,
      "outputs": [
        {
          "output_type": "stream",
          "name": "stdout",
          "text": [
            "Linear Regressor r2_score 0.92\n"
          ]
        }
      ]
    },
    {
      "cell_type": "code",
      "source": [
        ""
      ],
      "metadata": {
        "id": "uyTvKK1FhdZ7"
      },
      "execution_count": null,
      "outputs": []
    },
    {
      "cell_type": "code",
      "source": [
        ""
      ],
      "metadata": {
        "id": "zO7JKQRrhdUV"
      },
      "execution_count": null,
      "outputs": []
    },
    {
      "cell_type": "code",
      "source": [
        ""
      ],
      "metadata": {
        "id": "P6Eq1uB1hdTF"
      },
      "execution_count": 207,
      "outputs": []
    },
    {
      "cell_type": "code",
      "source": [
        ""
      ],
      "metadata": {
        "id": "fi5P1o7fhdOU"
      },
      "execution_count": null,
      "outputs": []
    },
    {
      "cell_type": "code",
      "source": [
        ""
      ],
      "metadata": {
        "id": "qh_v4zPEhdM8"
      },
      "execution_count": null,
      "outputs": []
    },
    {
      "cell_type": "code",
      "source": [
        ""
      ],
      "metadata": {
        "id": "SME1UfGFhdIC"
      },
      "execution_count": null,
      "outputs": []
    },
    {
      "cell_type": "code",
      "source": [
        ""
      ],
      "metadata": {
        "id": "2y4bGeLGhdGj"
      },
      "execution_count": null,
      "outputs": []
    },
    {
      "cell_type": "code",
      "source": [
        ""
      ],
      "metadata": {
        "id": "rrUD4qfIhdB4"
      },
      "execution_count": null,
      "outputs": []
    },
    {
      "cell_type": "code",
      "source": [
        ""
      ],
      "metadata": {
        "id": "O3unBDY4hdAg"
      },
      "execution_count": null,
      "outputs": []
    },
    {
      "cell_type": "code",
      "source": [
        ""
      ],
      "metadata": {
        "id": "_-lEtnU4hczY"
      },
      "execution_count": null,
      "outputs": []
    },
    {
      "cell_type": "code",
      "execution_count": null,
      "metadata": {
        "id": "0P6E-7pZ1FvV"
      },
      "outputs": [],
      "source": [
        ""
      ]
    },
    {
      "cell_type": "code",
      "source": [
        ""
      ],
      "metadata": {
        "id": "I6XXWM3FhYJo"
      },
      "execution_count": null,
      "outputs": []
    },
    {
      "cell_type": "code",
      "execution_count": null,
      "metadata": {
        "colab": {
          "background_save": true
        },
        "id": "693QNchK1F1g"
      },
      "outputs": [],
      "source": [
        ""
      ]
    },
    {
      "cell_type": "code",
      "execution_count": null,
      "metadata": {
        "id": "tiSH91HA1F2v"
      },
      "outputs": [],
      "source": [
        ""
      ]
    }
  ],
  "metadata": {
    "colab": {
      "name": "House price predict chennai",
      "provenance": [],
      "collapsed_sections": [],
      "authorship_tag": "ABX9TyNOtB+h7rekWNoZ5F/EaUMK",
      "include_colab_link": true
    },
    "kernelspec": {
      "display_name": "Python 3",
      "name": "python3"
    },
    "language_info": {
      "name": "python"
    }
  },
  "nbformat": 4,
  "nbformat_minor": 0
}